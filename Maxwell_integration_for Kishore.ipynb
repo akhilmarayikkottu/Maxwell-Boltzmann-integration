{
 "cells": [
  {
   "cell_type": "code",
   "execution_count": 207,
   "metadata": {},
   "outputs": [],
   "source": [
    "import numpy as np\n",
    "import math as m\n",
    "import matplotlib.pyplot as plt"
   ]
  },
  {
   "cell_type": "markdown",
   "metadata": {},
   "source": [
    "Three-dimensional Maxwell-Boltzmann distribution is taken in this study \\\n",
    ":  $f(T)= (\\frac{m}{2 \\pi k T})^{3/2} exp(-mC^2/2kT) $\n"
   ]
  },
  {
   "cell_type": "code",
   "execution_count": 220,
   "metadata": {},
   "outputs": [],
   "source": [
    "def Mx(T,c):\n",
    "    m = 28*1.66E-27\n",
    "    k =1.38064852E-23\n",
    "    A = m/(2*3.141*k*T)\n",
    "    B = 2.718281828459045**(-m*c*c/(2*k*T))\n",
    "    return(A**0.5*B)"
   ]
  },
  {
   "cell_type": "code",
   "execution_count": 221,
   "metadata": {},
   "outputs": [],
   "source": [
    "Cx = np.linspace(-1000,1000,50)\n",
    "Cy = np.linspace(-1000,1000,50)\n",
    "Cz = np.linspace(-1000,1000,50)\n",
    "Temp = 100.0\n",
    "f = Mx(Temp,Cx)"
   ]
  },
  {
   "cell_type": "code",
   "execution_count": 222,
   "metadata": {},
   "outputs": [
    {
     "data": {
      "text/plain": [
       "Text(0, 0.5, '$P$')"
      ]
     },
     "execution_count": 222,
     "metadata": {},
     "output_type": "execute_result"
    },
    {
     "data": {
      "image/png": "[encoded data removed]",
      "text/plain": [
       "<Figure size 432x432 with 1 Axes>"
      ]
     },
     "metadata": {
      "needs_background": "light"
     },
     "output_type": "display_data"
    }
   ],
   "source": [
    "## Just to make sure that the defention of MB is right!!\n",
    "plt.figure(figsize=(6,6))\n",
    "plt.title('Maxwell distribution',fontsize=20)\n",
    "plt.plot(Cx,f,'ro')\n",
    "plt.plot(Cx,f,'b')\n",
    "plt.xlabel('$C_x$',fontsize=20)\n",
    "plt.ylabel('$P$',fontsize=20)"
   ]
  },
  {
   "cell_type": "code",
   "execution_count": 223,
   "metadata": {},
   "outputs": [],
   "source": [
    "## Averaging operation for finding Temperature\n",
    "# define 1/2 m * c^2 term\n",
    "mass = 28*1.66E-27\n",
    "Term1X = 0.5*mass*Cx*Cx\n",
    "\n",
    "#Corresponding probabilities from the distribution\n",
    "#Here temp is the old temperature = 100 or the equilibrium temp at hand\n",
    "Term2X = Mx(Temp,Cx)\n",
    "\n",
    "Term1Y = 0.5*mass*Cy*Cy\n",
    "Term2Y = Mx(Temp,Cy)\n",
    "\n",
    "Term1Z = 0.5*mass*Cz*Cz\n",
    "Term2Z = Mx(Temp,Cz)\n",
    "\n",
    "#dot product between the two terms,multiplying it with the interval size \n",
    "# This should give us the integral on the RHS side\n",
    "Sum = np.dot(Term1X,Term2X)*(Cx[-1]-Cx[-2])+np.dot(Term1Y,Term2Y)*(Cy[-1]-Cy[-2])+np.dot(Term1Z,Term2Z)*(Cz[-1]-Cz[-2])"
   ]
  },
  {
   "cell_type": "markdown",
   "metadata": {},
   "source": [
    "$ \\frac{3}{2} k T = \\text{Integral on the RHS}$"
   ]
  },
  {
   "cell_type": "code",
   "execution_count": 224,
   "metadata": {},
   "outputs": [
    {
     "name": "stdout",
     "output_type": "stream",
     "text": [
      "100.00942269138196 K\n"
     ]
    }
   ],
   "source": [
    "kB = 1.38064852E-23\n",
    "T = Sum*2/(3*kB)\n",
    "print(T,'K')"
   ]
  },
  {
   "cell_type": "code",
   "execution_count": 225,
   "metadata": {},
   "outputs": [
    {
     "name": "stdout",
     "output_type": "stream",
     "text": [
      "0.009422691381956838 %\n"
     ]
    }
   ],
   "source": [
    "Error = abs(T-Temp)*100/Temp\n",
    "print(Error,'%')"
   ]
  },
  {
   "cell_type": "code",
   "execution_count": null,
   "metadata": {},
   "outputs": [],
   "source": []
  }
 ],
 "metadata": {
  "kernelspec": {
   "display_name": "Python 3",
   "language": "python",
   "name": "python3"
  },
  "language_info": {
   "codemirror_mode": {
    "name": "ipython",
    "version": 3
   },
   "file_extension": ".py",
   "mimetype": "text/x-python",
   "name": "python",
   "nbconvert_exporter": "python",
   "pygments_lexer": "ipython3",
   "version": "3.7.4"
  }
 },
 "nbformat": 4,
 "nbformat_minor": 2
}
